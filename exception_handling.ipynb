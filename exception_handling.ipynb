{
 "cells": [
  {
   "cell_type": "markdown",
   "metadata": {},
   "source": [
    "<h1>Exception Handling</h1>"
   ]
  },
  {
   "cell_type": "code",
   "execution_count": 5,
   "metadata": {},
   "outputs": [
    {
     "name": "stdout",
     "output_type": "stream",
     "text": [
      "mr chandan , your age is  22\n"
     ]
    }
   ],
   "source": [
    "name = input('please enter your name: ')\n",
    "age = int(input('please enter your age: '))\n",
    "print('mr',name,\", your age is \",age)\n"
   ]
  },
  {
   "cell_type": "code",
   "execution_count": 10,
   "metadata": {},
   "outputs": [
    {
     "name": "stdout",
     "output_type": "stream",
     "text": [
      "error is occured\n",
      "dhumtanananaderanaderanadhum\n",
      "bla bla\n"
     ]
    }
   ],
   "source": [
    "try:\n",
    "    name = input('please enter your name: ')\n",
    "    age = int(input('please enter your age: '))\n",
    "    print('mr',name,\", your age is \",age)\n",
    "except:\n",
    "    print('error is occured')\n",
    "else:\n",
    "    print('error is not occured')\n",
    "finally:\n",
    "    print('dhumtanananaderanaderanadhum')\n",
    "\n",
    "print('bla bla')\n"
   ]
  },
  {
   "cell_type": "markdown",
   "metadata": {},
   "source": [
    "<h2>your are dead</h2>\n",
    "<form>\n",
    "<table>\n",
    "<tr>chandan</tr>\n",
    "</table>\n",
    "<label><p>wanna save yourself ,yes?</p>\n",
    "<a href=\"https://www.death-clock.org\">\n",
    "\t\t\t\t\t\t\t\t<img src=\"https://www.death-clock.org/death-clock-badge5.php?dod=Wednesday, 9th January&yod=2097&aod=Age 94\" alt=\"The Death Clock\" width=\"210\" height=\"90\" border=\"0\" />\n",
    "\t\t\t\t\t\t\t</a>\n",
    "\n",
    "</label>\n",
    "</form>"
   ]
  },
  {
   "cell_type": "code",
   "execution_count": null,
   "metadata": {},
   "outputs": [],
   "source": []
  }
 ],
 "metadata": {
  "kernelspec": {
   "display_name": "Python 3",
   "language": "python",
   "name": "python3"
  },
  "language_info": {
   "codemirror_mode": {
    "name": "ipython",
    "version": 3
   },
   "file_extension": ".py",
   "mimetype": "text/x-python",
   "name": "python",
   "nbconvert_exporter": "python",
   "pygments_lexer": "ipython3",
   "version": "3.12.3"
  }
 },
 "nbformat": 4,
 "nbformat_minor": 2
}
