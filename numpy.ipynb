{
 "cells": [
  {
   "cell_type": "markdown",
   "metadata": {},
   "source": [
    "<h1>1D array</h1>"
   ]
  },
  {
   "cell_type": "code",
   "execution_count": 6,
   "metadata": {},
   "outputs": [],
   "source": [
    "import numpy as np"
   ]
  },
  {
   "cell_type": "code",
   "execution_count": 2,
   "metadata": {},
   "outputs": [
    {
     "data": {
      "text/plain": [
       "array([25, 41, 63, 66, 85, 74])"
      ]
     },
     "execution_count": 2,
     "metadata": {},
     "output_type": "execute_result"
    }
   ],
   "source": [
    "## creation of array 1D\n",
    "arr1 = np.array([25,41,63,66,85,74])\n",
    "arr1"
   ]
  },
  {
   "cell_type": "code",
   "execution_count": 3,
   "metadata": {},
   "outputs": [
    {
     "data": {
      "text/plain": [
       "numpy.ndarray"
      ]
     },
     "execution_count": 3,
     "metadata": {},
     "output_type": "execute_result"
    }
   ],
   "source": [
    "type(arr1)"
   ]
  },
  {
   "cell_type": "code",
   "execution_count": 4,
   "metadata": {},
   "outputs": [
    {
     "data": {
      "text/plain": [
       "6"
      ]
     },
     "execution_count": 4,
     "metadata": {},
     "output_type": "execute_result"
    }
   ],
   "source": [
    "arr1.size"
   ]
  },
  {
   "cell_type": "code",
   "execution_count": 5,
   "metadata": {},
   "outputs": [
    {
     "data": {
      "text/plain": [
       "6"
      ]
     },
     "execution_count": 5,
     "metadata": {},
     "output_type": "execute_result"
    }
   ],
   "source": [
    "len(arr1)"
   ]
  },
  {
   "cell_type": "code",
   "execution_count": 6,
   "metadata": {},
   "outputs": [
    {
     "name": "stdout",
     "output_type": "stream",
     "text": [
      "2.0.0\n"
     ]
    }
   ],
   "source": [
    "print(np.__version__)"
   ]
  },
  {
   "cell_type": "code",
   "execution_count": 7,
   "metadata": {},
   "outputs": [
    {
     "data": {
      "text/plain": [
       "array([25, 41, 63, 66, 85, 74])"
      ]
     },
     "execution_count": 7,
     "metadata": {},
     "output_type": "execute_result"
    }
   ],
   "source": [
    "arr1[::]"
   ]
  },
  {
   "cell_type": "code",
   "execution_count": 9,
   "metadata": {},
   "outputs": [],
   "source": [
    "arr1[-1] = 500"
   ]
  },
  {
   "cell_type": "code",
   "execution_count": 10,
   "metadata": {},
   "outputs": [
    {
     "data": {
      "text/plain": [
       "array([ 25,  41,  63,  66,  85, 500])"
      ]
     },
     "execution_count": 10,
     "metadata": {},
     "output_type": "execute_result"
    }
   ],
   "source": [
    "arr1"
   ]
  },
  {
   "cell_type": "code",
   "execution_count": 11,
   "metadata": {},
   "outputs": [
    {
     "data": {
      "text/plain": [
       "array([ 27,  43,  65,  68,  87, 502])"
      ]
     },
     "execution_count": 11,
     "metadata": {},
     "output_type": "execute_result"
    }
   ],
   "source": [
    "arr1 + 2"
   ]
  },
  {
   "cell_type": "code",
   "execution_count": 12,
   "metadata": {},
   "outputs": [
    {
     "data": {
      "text/plain": [
       "array([  50,   82,  126,  132,  170, 1000])"
      ]
     },
     "execution_count": 12,
     "metadata": {},
     "output_type": "execute_result"
    }
   ],
   "source": [
    "arr1 * 2"
   ]
  },
  {
   "cell_type": "code",
   "execution_count": 13,
   "metadata": {},
   "outputs": [
    {
     "data": {
      "text/plain": [
       "dtype('int64')"
      ]
     },
     "execution_count": 13,
     "metadata": {},
     "output_type": "execute_result"
    }
   ],
   "source": [
    "arr1.dtype"
   ]
  },
  {
   "cell_type": "markdown",
   "metadata": {},
   "source": [
    "<h2>arr1 = np.array([10,20,30,40]) <- 1D \n",
    "</br>\n",
    "arr2 = np.array([[1,2,3],[4,5,6],[7,8,9],[10,11,12]]) <- 2D</h2>"
   ]
  },
  {
   "cell_type": "markdown",
   "metadata": {},
   "source": [
    "<h1>2D array</h1>"
   ]
  },
  {
   "cell_type": "code",
   "execution_count": 5,
   "metadata": {},
   "outputs": [],
   "source": [
    "import numpy as np"
   ]
  },
  {
   "cell_type": "code",
   "execution_count": 6,
   "metadata": {},
   "outputs": [],
   "source": [
    "ls = [[1,2,3],[4,5,6],[7,8,9],[10,11,12]]"
   ]
  },
  {
   "cell_type": "code",
   "execution_count": 7,
   "metadata": {},
   "outputs": [
    {
     "name": "stdout",
     "output_type": "stream",
     "text": [
      "[[ 1  2  3]\n",
      " [ 4  5  6]\n",
      " [ 7  8  9]\n",
      " [10 11 12]]\n"
     ]
    }
   ],
   "source": [
    "arr2 = np.array(ls)\n",
    "print(arr2)"
   ]
  },
  {
   "cell_type": "code",
   "execution_count": 8,
   "metadata": {},
   "outputs": [
    {
     "data": {
      "text/plain": [
       "array([4, 5, 6])"
      ]
     },
     "execution_count": 8,
     "metadata": {},
     "output_type": "execute_result"
    }
   ],
   "source": [
    "arr2[1]"
   ]
  },
  {
   "cell_type": "code",
   "execution_count": 9,
   "metadata": {},
   "outputs": [
    {
     "data": {
      "text/plain": [
       "array([ 34, 186, 193, 128,   7, 171,  23,  60,  63, 159, 124,  57,  77,\n",
       "        22, 194,  19,  17,  72, 138, 176,  28,  49,  90,  48, 118,  81,\n",
       "        98,  23,   4,  86,  41, 114,  57, 192,  30, 108,  63,  16,  71,\n",
       "        12,  70,  73,  13,  22, 138,  75, 175,  27, 100, 141,  92,  41,\n",
       "        77, 113, 156, 188,  44,  31,  82,  14,  63, 192, 180, 142, 147,\n",
       "       107, 164,  62, 121, 133, 167,  92,  92,   2,  11,  18, 154,  66,\n",
       "       135, 112,  52,  14, 164, 189, 131, 165,  90, 182, 168,  73,  63,\n",
       "        70, 166, 114, 152, 177,  97, 121, 195, 147,  75,  64,  42, 163,\n",
       "        17, 191,  84,  24, 133,  75, 160,  34,  70,  70,  57, 164, 197,\n",
       "        22, 155, 108,  87, 182, 118, 164,  26,  39, 138, 122, 193,  31,\n",
       "       171,  49, 190,  99,  48, 182, 163, 114,  64, 172, 175, 145, 130,\n",
       "       122, 195, 178,  27,  78, 176, 107,  44,  55, 198,  48, 183,  29,\n",
       "       154, 151, 113,   8, 150,  30,  76, 107, 104,  10, 148, 194,  18,\n",
       "       147, 103,  88, 115,  48, 161, 117,  20,  10,  26,  39,  17, 150,\n",
       "        51,  85,  47,  77, 174, 117, 157, 189, 135, 148, 181,  89, 111,\n",
       "        48,   2,  40,   2, 118, 108, 165,  72, 124, 127,  89, 120,  41,\n",
       "       101, 154, 169,  38, 135, 191, 189, 166,  32,   2, 186, 192,  21,\n",
       "       155,  81,  38, 121, 111, 164, 134, 176,  28,   6, 112,  74,  65,\n",
       "       156,  60,  34, 148, 108, 188, 127,  27, 130,  50, 125,  72, 192,\n",
       "        29,  54, 126, 170, 153,  71,  75,  57, 176, 158,  74, 124, 193,\n",
       "       191, 159,  69,  41,  52, 166, 111,   3,  22,  63,  89,  72,  77,\n",
       "       115, 153,  68,  50, 153, 121, 190,  11,  72, 172, 151, 117,  60,\n",
       "       101,  52,  47,  20, 183, 182, 140, 106, 146,  54, 109,  11, 109,\n",
       "       184,  94,  25, 163, 138,  71, 100, 151, 126,  87,  38,  84, 122,\n",
       "       162,  62, 147, 111, 171,  99,  23, 180, 130, 129, 158, 173, 120,\n",
       "       130,  19, 100,   3,  56,  79, 186,   4, 192,  11,  51, 169,  86,\n",
       "       185, 142, 112, 141, 165,  85, 156, 159,  52, 131, 126, 126,  85,\n",
       "       168,  21, 185,  84,  78, 112, 105,  12, 110, 168,   7, 174,  59,\n",
       "        33,  36, 193, 180, 171, 129,  82, 154, 169,  94,  45,  52,  49,\n",
       "        84,  27, 147, 178,  79,  61,  78,  63, 178, 102, 184,  81, 106,\n",
       "       194,  99, 150,  78,  41, 124,  15, 165,  63, 128,  17,  53,  79,\n",
       "       133, 108,  91, 148, 152,  50, 199, 151, 121,   4, 143,   1, 126,\n",
       "       183, 139, 188, 108,  16, 144,  36,  60,   4,  94, 176,  25, 118,\n",
       "        41, 154, 199,  35, 150,  42,  53, 155, 120,  39, 163,  97, 140,\n",
       "       140, 177,  81,  91,  20, 180, 124,  74, 177, 182,  98,  78, 179,\n",
       "        12,   9, 196, 131, 169, 118, 168,  65,  77,  24,   5,  26,  64,\n",
       "        40, 115,   7,  65, 136,  64,  13, 168,  56,  73,  12,  49, 162,\n",
       "        99, 132,  24, 121, 184,  62,  30, 188,  18,  76,  80, 151, 103,\n",
       "        83, 184, 195,  57, 142,  90], dtype=int32)"
      ]
     },
     "execution_count": 9,
     "metadata": {},
     "output_type": "execute_result"
    }
   ],
   "source": [
    "arr = np.random.randint(1,200,500)\n",
    "arr"
   ]
  },
  {
   "cell_type": "code",
   "execution_count": 10,
   "metadata": {},
   "outputs": [
    {
     "data": {
      "text/plain": [
       "array([ 34,   7,  23,  60,  63,  57,  77,  22,  19,  17,  72,  28,  49,\n",
       "        90,  48,  81,  98,  23,   4,  86,  41,  57,  30,  63,  16,  71,\n",
       "        12,  70,  73,  13,  22,  75,  27, 100,  92,  41,  77,  44,  31,\n",
       "        82,  14,  63,  62,  92,  92,   2,  11,  18,  66,  52,  14,  90,\n",
       "        73,  63,  70,  97,  75,  64,  42,  17,  84,  24,  75,  34,  70,\n",
       "        70,  57,  22,  87,  26,  39,  31,  49,  99,  48,  64,  27,  78,\n",
       "        44,  55,  48,  29,   8,  30,  76,  10,  18,  88,  48,  20,  10,\n",
       "        26,  39,  17,  51,  85,  47,  77,  89,  48,   2,  40,   2,  72,\n",
       "        89,  41,  38,  32,   2,  21,  81,  38,  28,   6,  74,  65,  60,\n",
       "        34,  27,  50,  72,  29,  54,  71,  75,  57,  74,  69,  41,  52,\n",
       "         3,  22,  63,  89,  72,  77,  68,  50,  11,  72,  60,  52,  47,\n",
       "        20,  54,  11,  94,  25,  71, 100,  87,  38,  84,  62,  99,  23,\n",
       "        19, 100,   3,  56,  79,   4,  11,  51,  86,  85,  52,  85,  21,\n",
       "        84,  78,  12,   7,  59,  33,  36,  82,  94,  45,  52,  49,  84,\n",
       "        27,  79,  61,  78,  63,  81,  99,  78,  41,  15,  63,  17,  53,\n",
       "        79,  91,  50,   4,   1,  16,  36,  60,   4,  94,  25,  41,  35,\n",
       "        42,  53,  39,  97,  81,  91,  20,  74,  98,  78,  12,   9,  65,\n",
       "        77,  24,   5,  26,  64,  40,   7,  65,  64,  13,  56,  73,  12,\n",
       "        49,  99,  24,  62,  30,  18,  76,  80,  83,  57,  90], dtype=int32)"
      ]
     },
     "execution_count": 10,
     "metadata": {},
     "output_type": "execute_result"
    }
   ],
   "source": [
    "arr[arr <= 100]"
   ]
  },
  {
   "cell_type": "code",
   "execution_count": 11,
   "metadata": {},
   "outputs": [
    {
     "data": {
      "text/plain": [
       "(245,)"
      ]
     },
     "execution_count": 11,
     "metadata": {},
     "output_type": "execute_result"
    }
   ],
   "source": [
    "arr[arr <= 100].shape"
   ]
  },
  {
   "cell_type": "code",
   "execution_count": 12,
   "metadata": {},
   "outputs": [
    {
     "data": {
      "text/plain": [
       "array([[ 13, 192, 110,  28,  49],\n",
       "       [  5,  23,  23, 177,   6],\n",
       "       [  6, 175, 179, 191, 114],\n",
       "       [ 46,  63, 113, 199, 117],\n",
       "       [114,  31,  28,  11,  44],\n",
       "       [ 36,  33,   1,  40, 155],\n",
       "       [ 20, 143,  88, 161,  63],\n",
       "       [ 60,  14,  47,  12, 106],\n",
       "       [146, 144, 180, 108,  29],\n",
       "       [ 96,  32,  18, 169, 173]], dtype=int32)"
      ]
     },
     "execution_count": 12,
     "metadata": {},
     "output_type": "execute_result"
    }
   ],
   "source": [
    "arr2 = np.random.randint(1,200,(10,5))\n",
    "arr2"
   ]
  },
  {
   "cell_type": "code",
   "execution_count": 13,
   "metadata": {},
   "outputs": [],
   "source": [
    "# next day"
   ]
  },
  {
   "cell_type": "code",
   "execution_count": 16,
   "metadata": {},
   "outputs": [
    {
     "data": {
      "text/plain": [
       "array([8, 7, 9])"
      ]
     },
     "execution_count": 16,
     "metadata": {},
     "output_type": "execute_result"
    }
   ],
   "source": [
    "arr = np.array([8,7,9])\n",
    "arr"
   ]
  },
  {
   "cell_type": "code",
   "execution_count": 17,
   "metadata": {},
   "outputs": [
    {
     "data": {
      "text/plain": [
       "np.int64(9)"
      ]
     },
     "execution_count": 17,
     "metadata": {},
     "output_type": "execute_result"
    }
   ],
   "source": [
    "np.max(arr)"
   ]
  },
  {
   "cell_type": "code",
   "execution_count": 18,
   "metadata": {},
   "outputs": [
    {
     "data": {
      "text/plain": [
       "np.int64(7)"
      ]
     },
     "execution_count": 18,
     "metadata": {},
     "output_type": "execute_result"
    }
   ],
   "source": [
    "np.min(arr)"
   ]
  },
  {
   "cell_type": "code",
   "execution_count": 19,
   "metadata": {},
   "outputs": [
    {
     "data": {
      "text/plain": [
       "np.float64(8.0)"
      ]
     },
     "execution_count": 19,
     "metadata": {},
     "output_type": "execute_result"
    }
   ],
   "source": [
    "np.mean(arr)"
   ]
  },
  {
   "cell_type": "markdown",
   "metadata": {},
   "source": []
  },
  {
   "cell_type": "code",
   "execution_count": 20,
   "metadata": {},
   "outputs": [
    {
     "data": {
      "text/plain": [
       "np.int64(24)"
      ]
     },
     "execution_count": 20,
     "metadata": {},
     "output_type": "execute_result"
    }
   ],
   "source": [
    "np.sum(arr)"
   ]
  },
  {
   "cell_type": "code",
   "execution_count": 21,
   "metadata": {},
   "outputs": [
    {
     "data": {
      "text/plain": [
       "np.int64(1)"
      ]
     },
     "execution_count": 21,
     "metadata": {},
     "output_type": "execute_result"
    }
   ],
   "source": [
    "np.argmin(arr)"
   ]
  },
  {
   "cell_type": "code",
   "execution_count": 22,
   "metadata": {},
   "outputs": [
    {
     "data": {
      "text/plain": [
       "np.int64(2)"
      ]
     },
     "execution_count": 22,
     "metadata": {},
     "output_type": "execute_result"
    }
   ],
   "source": [
    "np.argmax(arr)"
   ]
  },
  {
   "cell_type": "code",
   "execution_count": 24,
   "metadata": {},
   "outputs": [
    {
     "data": {
      "text/plain": [
       "array([7, 8, 9])"
      ]
     },
     "execution_count": 24,
     "metadata": {},
     "output_type": "execute_result"
    }
   ],
   "source": [
    "np.sort(arr)"
   ]
  },
  {
   "cell_type": "code",
   "execution_count": 25,
   "metadata": {},
   "outputs": [
    {
     "data": {
      "text/plain": [
       "array([9, 7, 8])"
      ]
     },
     "execution_count": 25,
     "metadata": {},
     "output_type": "execute_result"
    }
   ],
   "source": [
    "arr[::-1]"
   ]
  },
  {
   "cell_type": "code",
   "execution_count": null,
   "metadata": {},
   "outputs": [],
   "source": []
  }
 ],
 "metadata": {
  "kernelspec": {
   "display_name": "Python 3",
   "language": "python",
   "name": "python3"
  },
  "language_info": {
   "codemirror_mode": {
    "name": "ipython",
    "version": 3
   },
   "file_extension": ".py",
   "mimetype": "text/x-python",
   "name": "python",
   "nbconvert_exporter": "python",
   "pygments_lexer": "ipython3",
   "version": "3.12.3"
  }
 },
 "nbformat": 4,
 "nbformat_minor": 2
}
