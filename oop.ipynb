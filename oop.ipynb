{
 "cells": [
  {
   "cell_type": "code",
   "execution_count": 4,
   "metadata": {},
   "outputs": [],
   "source": [
    "class College:\n",
    "    # properties inside the class\n",
    "    college_name=\"poornima institue of engineering & technology\"\n",
    "    college_city='jaipur'"
   ]
  },
  {
   "cell_type": "code",
   "execution_count": 5,
   "metadata": {},
   "outputs": [],
   "source": [
    "#object or instance creation\n",
    "obj = College()"
   ]
  },
  {
   "cell_type": "code",
   "execution_count": 6,
   "metadata": {},
   "outputs": [
    {
     "name": "stdout",
     "output_type": "stream",
     "text": [
      "poornima institue of engineering & technology\n"
     ]
    }
   ],
   "source": [
    "print(obj.college_name)"
   ]
  },
  {
   "cell_type": "code",
   "execution_count": 7,
   "metadata": {},
   "outputs": [],
   "source": [
    "obj1=College()\n",
    "obj2=College()\n",
    "obj3=College()\n"
   ]
  },
  {
   "cell_type": "code",
   "execution_count": 10,
   "metadata": {},
   "outputs": [
    {
     "name": "stdout",
     "output_type": "stream",
     "text": [
      "poornima institue of engineering & technology\n"
     ]
    }
   ],
   "source": [
    "print(obj3.college_name)"
   ]
  },
  {
   "cell_type": "code",
   "execution_count": 11,
   "metadata": {},
   "outputs": [],
   "source": [
    "obj1.college_name='Indian Institute of engineering and technology'\n",
    "obj1.college_city='jodhpur'"
   ]
  },
  {
   "cell_type": "code",
   "execution_count": 14,
   "metadata": {},
   "outputs": [
    {
     "name": "stdout",
     "output_type": "stream",
     "text": [
      "Indian Institute of engineering and technology\n"
     ]
    }
   ],
   "source": [
    "print(obj1.college_name)"
   ]
  },
  {
   "cell_type": "code",
   "execution_count": 15,
   "metadata": {},
   "outputs": [
    {
     "name": "stdout",
     "output_type": "stream",
     "text": [
      "jaipur\n"
     ]
    }
   ],
   "source": [
    "print(obj2.college_city)"
   ]
  },
  {
   "cell_type": "code",
   "execution_count": 1,
   "metadata": {},
   "outputs": [],
   "source": [
    "class College:\n",
    "    # properties  inside the class\n",
    "    # class variables \n",
    "    college_name = \"Poornima institue of engineering\"\n",
    "    college_city = 'jaipur' \n",
    "\n",
    "    # instance variable constructor \n",
    "# it is kind of special function, and which used to initialized the variables \n",
    "    # you will not be need to call the constructor,\n",
    "    # constructor executes automaticaly when you will create an object. \n",
    "    \n",
    "    def __init__(self,cse_hod,ece_hod,e_hod): \n",
    "        # instance variables\n",
    "        self.college_cse_hod = cse_hod\n",
    "        self.college_ece_hod = ece_hod\n",
    "        self.college_electrical_hod = e_hod \n",
    "        print(\"Constructor called !\")"
   ]
  },
  {
   "cell_type": "code",
   "execution_count": 2,
   "metadata": {},
   "outputs": [
    {
     "ename": "SyntaxError",
     "evalue": "expected ':' (973720694.py, line 1)",
     "output_type": "error",
     "traceback": [
      "\u001b[1;36m  Cell \u001b[1;32mIn[2], line 1\u001b[1;36m\u001b[0m\n\u001b[1;33m    def display()\u001b[0m\n\u001b[1;37m                 ^\u001b[0m\n\u001b[1;31mSyntaxError\u001b[0m\u001b[1;31m:\u001b[0m expected ':'\n"
     ]
    }
   ],
   "source": [
    "marks = [25,35,45,41,42,47,49,38,39,29,46,47]\n",
    "marks\n",
    "def avg_finder():\n",
    "    total_sum=0\n",
    "    count=o\n",
    "    for i"
   ]
  }
 ],
 "metadata": {
  "kernelspec": {
   "display_name": "Python 3",
   "language": "python",
   "name": "python3"
  },
  "language_info": {
   "codemirror_mode": {
    "name": "ipython",
    "version": 3
   },
   "file_extension": ".py",
   "mimetype": "text/x-python",
   "name": "python",
   "nbconvert_exporter": "python",
   "pygments_lexer": "ipython3",
   "version": "3.12.3"
  }
 },
 "nbformat": 4,
 "nbformat_minor": 2
}
